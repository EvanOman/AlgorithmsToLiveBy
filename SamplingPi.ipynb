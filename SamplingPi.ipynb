{
 "cells": [
  {
   "cell_type": "markdown",
   "metadata": {},
   "source": [
    "# $\\pi$ Approximation with Sampling\n",
    "\n",
    "Approximates $\\pi$ by generating random points in a square with an inscibed circle and using the ratio of in circle vs out of circle to solve for $\\pi$"
   ]
  },
  {
   "cell_type": "markdown",
   "metadata": {},
   "source": [
    "## Functions"
   ]
  },
  {
   "cell_type": "code",
   "execution_count": 1,
   "metadata": {},
   "outputs": [],
   "source": [
    "import math, random\n",
    "from itertools import repeat\n",
    "from typing import Tuple\n",
    "import numpy as np\n",
    "\n",
    "# Generates random value in range (-1, 1)\n",
    "def gen_rand(num_points: int) -> np.ndarray:\n",
    "    return 2 * np.random.rand(num_points) - 1\n",
    "\n",
    "# Formula for Pi derived from the ratio of points in/out of circle\n",
    "def pi_formula(num_in, num_points) -> float:\n",
    "    return 4 * num_in / num_points\n",
    "\n",
    "# Approximates Pi by taking many samples and applying the formula\n",
    "def approx_pi(n_points: int) -> float:\n",
    "    \n",
    "    # Generate samples\n",
    "    x = gen_rand(n_points)\n",
    "    y = gen_rand(n_points)\n",
    "    \n",
    "    # Compute the number that fall in the circle\n",
    "    num_in = np.sum(np.sqrt(x**2 + y**2) <= 1)\n",
    "    \n",
    "    # Apply formula\n",
    "    return pi_formula(num_in, n_points)\n",
    "\n",
    "def print_approx(n_points: int):\n",
    "    print(f\" N = {n_points}, pi = ~{approx_pi(n_points)}\")"
   ]
  },
  {
   "cell_type": "markdown",
   "metadata": {},
   "source": [
    "## Approximations:"
   ]
  },
  {
   "cell_type": "code",
   "execution_count": 2,
   "metadata": {},
   "outputs": [
    {
     "name": "stdout",
     "output_type": "stream",
     "text": [
      " N = 10, pi = ~3.6\n"
     ]
    }
   ],
   "source": [
    "print_approx(10)"
   ]
  },
  {
   "cell_type": "code",
   "execution_count": 3,
   "metadata": {},
   "outputs": [
    {
     "name": "stdout",
     "output_type": "stream",
     "text": [
      " N = 1000, pi = ~3.176\n"
     ]
    }
   ],
   "source": [
    "print_approx(1000)"
   ]
  },
  {
   "cell_type": "code",
   "execution_count": 4,
   "metadata": {},
   "outputs": [
    {
     "name": "stdout",
     "output_type": "stream",
     "text": [
      " N = 1000000, pi = ~3.140392\n"
     ]
    }
   ],
   "source": [
    "print_approx(1000000)"
   ]
  },
  {
   "cell_type": "code",
   "execution_count": 5,
   "metadata": {},
   "outputs": [
    {
     "name": "stdout",
     "output_type": "stream",
     "text": [
      " N = 100000000, pi = ~3.14172176\n"
     ]
    }
   ],
   "source": [
    "print_approx(100000000)"
   ]
  }
 ],
 "metadata": {
  "kernelspec": {
   "display_name": "Python 3",
   "language": "python",
   "name": "python3"
  },
  "language_info": {
   "codemirror_mode": {
    "name": "ipython",
    "version": 3
   },
   "file_extension": ".py",
   "mimetype": "text/x-python",
   "name": "python",
   "nbconvert_exporter": "python",
   "pygments_lexer": "ipython3",
   "version": "3.8.5"
  }
 },
 "nbformat": 4,
 "nbformat_minor": 4
}
